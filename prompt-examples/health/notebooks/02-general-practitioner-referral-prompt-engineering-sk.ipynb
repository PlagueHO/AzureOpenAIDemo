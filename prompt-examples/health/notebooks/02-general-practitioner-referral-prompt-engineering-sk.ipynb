{
 "cells": [
  {
   "attachments": {},
   "cell_type": "markdown",
   "metadata": {},
   "source": [
    "# General practitioner referral"
   ]
  },
  {
   "attachments": {},
   "cell_type": "markdown",
   "metadata": {},
   "source": [
    "This document shows an example of evolution of a prompt from a simple text to a full prompt with a workflow. It uses Semantic Kernel.\n",
    "\n",
    "Goal: Improve the referral workflow of a GP practice, to automate documentation generation and delivery.\n",
    "Scenario: A Dr. Smith sees a patient, 80 year old man, Fred, at his practice. Fred has broken his upper elbow by falling off his ebike. He wants to refer Fred to the Dr. Jones, at the Fracture Clinic in Contoso Hospital.\n",
    "\n",
    "Inputs:\n",
    "1. Medical short hand Dr. Smith creating during the visit:\n",
    "\n",
    "```text\n",
    "S: Pt c/o pain in R elbow after fall. Hx of HTN, T2DM. O: R elbow swollen, tender to palpation. ROM limited. No obvious deformity. A: Suspected R upper elbow fx. P: X-ray ordered. RICE, analgesics, sling for immobilization. Ref to Fracture Clinic.\n",
    "```\n",
    "\n",
    "1. Transcription from the visit.\n",
    "\n",
    "```text\n",
    "I saw Fred today. He tells me he fell off his ebike and landed heavily on his elbow. I've sent him to get X-rays and will refer him to Fracture Clinic at Contoso Health.\n",
    "```"
   ]
  },
  {
   "cell_type": "code",
   "execution_count": 33,
   "metadata": {
    "dotnet_interactive": {
     "language": "csharp"
    },
    "polyglot_notebook": {
     "kernelName": "csharp"
    }
   },
   "outputs": [
    {
     "data": {
      "text/html": [
       "<div><div></div><div></div><div><strong>Installed Packages</strong><ul><li><span>Microsoft.SemanticKernel, 0.12.207.1-preview</span></li></ul></div></div>"
      ]
     },
     "metadata": {},
     "output_type": "display_data"
    }
   ],
   "source": [
    "#r \"nuget: Microsoft.SemanticKernel, 0.12.207.1-preview\"\n",
    "\n",
    "#!import config/Settings.cs\n",
    "\n",
    "using Microsoft.SemanticKernel;\n",
    "using Microsoft.SemanticKernel.SemanticFunctions;\n",
    "\n",
    "IKernel kernel = KernelBuilder.Create();\n",
    "\n",
    "// Configure AI backend used by the kernel\n",
    "var (useAzureOpenAI, model, azureEndpoint, apiKey, orgId) = Settings.LoadFromFile();\n",
    "if (useAzureOpenAI) {\n",
    "    kernel.Config.AddAzureTextCompletionService(\"davinci\", model, azureEndpoint, apiKey);\n",
    "    kernel.Config.AddAzureChatCompletionService(\"chatgpt\", \"gpt-35-turbo\", azureEndpoint, apiKey);\n",
    "}\n",
    "else\n",
    "    kernel.Config.AddOpenAITextCompletionService(\"davinci\", model, apiKey, orgId);\n",
    "    kernel.Config.AddOpenAIChatCompletionService(\"chatgpt\", \"gpt-35-turbo\", apiKey, orgId);"
   ]
  },
  {
   "attachments": {},
   "cell_type": "markdown",
   "metadata": {},
   "source": [
    "Let's create a semantic function used to explain medical shorthand:"
   ]
  },
  {
   "cell_type": "code",
   "execution_count": 34,
   "metadata": {
    "dotnet_interactive": {
     "language": "csharp"
    },
    "polyglot_notebook": {
     "kernelName": "csharp"
    }
   },
   "outputs": [],
   "source": [
    "string explainMedicalShorthand = \"\"\"\n",
    "Explain the following medical shorthand and what it means.\n",
    "\n",
    "### Medical shorthand\n",
    "{{$input}}\n",
    "\"\"\";"
   ]
  },
  {
   "attachments": {},
   "cell_type": "markdown",
   "metadata": {},
   "source": [
    "Let's configure the prompt, e.g. allowing for some creativity and a sufficient number of tokens."
   ]
  },
  {
   "cell_type": "code",
   "execution_count": 35,
   "metadata": {
    "dotnet_interactive": {
     "language": "csharp"
    },
    "polyglot_notebook": {
     "kernelName": "csharp"
    }
   },
   "outputs": [],
   "source": [
    "var promptConfig = new PromptTemplateConfig\n",
    "{\n",
    "    Completion =\n",
    "    {\n",
    "        MaxTokens = 2000,\n",
    "        Temperature = 0.0,\n",
    "        TopP = 0.5,\n",
    "    }\n",
    "};"
   ]
  },
  {
   "attachments": {},
   "cell_type": "markdown",
   "metadata": {},
   "source": [
    "The following code prepares an instance of the template, passing in the TXT and configuration above, \n",
    "and a couple of other parameters (how to render the TXT and how the template can access other functions)."
   ]
  },
  {
   "cell_type": "code",
   "execution_count": 36,
   "metadata": {
    "dotnet_interactive": {
     "language": "csharp"
    },
    "polyglot_notebook": {
     "kernelName": "csharp"
    }
   },
   "outputs": [],
   "source": [
    "var explainMedicalShorthandTemplate = new PromptTemplate(\n",
    "    explainMedicalShorthand,       // Prompt template defined in natural language\n",
    "    promptConfig,                  // Prompt configuration\n",
    "    kernel                         // SK instance\n",
    ");"
   ]
  },
  {
   "attachments": {},
   "cell_type": "markdown",
   "metadata": {},
   "source": [
    "Let's transform the prompt template into a function that the kernel can execute:"
   ]
  },
  {
   "cell_type": "code",
   "execution_count": 37,
   "metadata": {
    "dotnet_interactive": {
     "language": "csharp"
    },
    "polyglot_notebook": {
     "kernelName": "csharp"
    }
   },
   "outputs": [],
   "source": [
    "var explainMedicalShorthandFunctionConfig = new SemanticFunctionConfig(promptConfig, explainMedicalShorthandTemplate);\n",
    "\n",
    "var explainMedicalShorthandFunction = kernel.RegisterSemanticFunction(\"ExplainMedicalShorthand\", \"ExplainMedicalShorthand\", explainMedicalShorthandFunctionConfig);"
   ]
  },
  {
   "attachments": {},
   "cell_type": "markdown",
   "metadata": {},
   "source": [
    "Set up some medical shorthand to explain. The medical shorthand is from a patient visit from a upper elbow fracture event."
   ]
  },
  {
   "cell_type": "code",
   "execution_count": 38,
   "metadata": {
    "dotnet_interactive": {
     "language": "csharp"
    },
    "polyglot_notebook": {
     "kernelName": "csharp"
    }
   },
   "outputs": [],
   "source": [
    "var medicalShorthand = \"\"\"\n",
    "S: Pt c/o pain in R elbow after fall. Hx of HTN, T2DM. O: R elbow swollen, tender to palpation. ROM limited. No obvious deformity. A: Suspected R upper elbow fx. P: X-ray ordered. RICE, analgesics, sling for immobilization. Ref to Fracture Clinic.\n",
    "\"\"\";"
   ]
  },
  {
   "attachments": {},
   "cell_type": "markdown",
   "metadata": {},
   "source": [
    "...and run the summary function:"
   ]
  },
  {
   "cell_type": "code",
   "execution_count": 39,
   "metadata": {
    "dotnet_interactive": {
     "language": "csharp"
    },
    "polyglot_notebook": {
     "kernelName": "csharp"
    }
   },
   "outputs": [
    {
     "name": "stdout",
     "output_type": "stream",
     "text": [
      "\n",
      "\n",
      "S: Patient complains of pain in right elbow after fall. History of hypertension and type 2 diabetes.\n",
      "\n",
      "O: Right elbow is swollen and tender to palpation. Range of motion is limited. No obvious deformity.\n",
      "\n",
      "A: Suspected right upper elbow fracture.\n",
      "\n",
      "P: X-ray ordered. Rest, Ice, Compression, Elevation, analgesics, and sling for immobilization. Referral to Fracture Clinic.\r\n"
     ]
    }
   ],
   "source": [
    "var explainedMedicalShorthand = await kernel.RunAsync(medicalShorthand, explainMedicalShorthandFunction);\n",
    "\n",
    "Console.WriteLine(explainedMedicalShorthand);"
   ]
  }
 ],
 "metadata": {
  "kernelspec": {
   "display_name": ".NET (C#)",
   "language": "C#",
   "name": ".net-csharp"
  },
  "language_info": {
   "name": "polyglot-notebook"
  },
  "polyglot_notebook": {
   "kernelInfo": {
    "defaultKernelName": "csharp",
    "items": [
     {
      "aliases": [],
      "name": "csharp"
     }
    ]
   }
  }
 },
 "nbformat": 4,
 "nbformat_minor": 2
}
