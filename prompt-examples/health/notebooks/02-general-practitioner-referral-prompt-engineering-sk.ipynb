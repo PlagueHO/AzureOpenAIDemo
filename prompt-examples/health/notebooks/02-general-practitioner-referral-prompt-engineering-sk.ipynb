{
 "cells": [
  {
   "attachments": {},
   "cell_type": "markdown",
   "metadata": {},
   "source": [
    "# General practitioner referral"
   ]
  },
  {
   "attachments": {},
   "cell_type": "markdown",
   "metadata": {},
   "source": [
    "This document shows an example of evolution of a prompt from a simple text to a full prompt with a workflow. It uses Semantic Kernel.\n",
    "\n",
    "Goal: Improve the referral workflow of a GP practice, to automate documentation generation and delivery.\n",
    "Scenario: A Dr. Smith sees a patient, 80 year old man, Fred, at his practice. Fred has broken his upper elbow by falling off his ebike. He wants to refer Fred to the Dr. Jones, at the Fracture Clinic in Contoso Hospital.\n",
    "\n",
    "Inputs:\n",
    "1. Medical short hand Dr. Smith creating during the visit:\n",
    "\n",
    "```text\n",
    "S: Pt c/o pain in R elbow after fall. Hx of HTN, T2DM. O: R elbow swollen, tender to palpation. ROM limited. No obvious deformity. A: Suspected R upper elbow fx. P: X-ray ordered. RICE, analgesics, sling for immobilization. Ref to Fracture Clinic.\n",
    "```"
   ]
  },
  {
   "cell_type": "code",
   "execution_count": 12,
   "metadata": {
    "dotnet_interactive": {
     "language": "csharp"
    },
    "polyglot_notebook": {
     "kernelName": "csharp"
    }
   },
   "outputs": [
    {
     "data": {
      "text/html": [
       "<div><div></div><div></div><div><strong>Installed Packages</strong><ul><li><span>Microsoft.SemanticKernel, 0.12.207.1-preview</span></li></ul></div></div>"
      ]
     },
     "metadata": {},
     "output_type": "display_data"
    }
   ],
   "source": [
    "#r \"nuget: Microsoft.SemanticKernel, 0.12.207.1-preview\"\n",
    "\n",
    "#!import config/Settings.cs\n",
    "\n",
    "using Microsoft.SemanticKernel;\n",
    "using Microsoft.SemanticKernel.SemanticFunctions;\n",
    "using Microsoft.SemanticKernel.AI.ChatCompletion;\n",
    "using System.Text.Json;\n",
    "using System.Text.Json.Serialization;\n",
    "\n",
    "IKernel kernel = KernelBuilder.Create();\n",
    "\n",
    "// Configure AI backend used by the kernel\n",
    "var (useAzureOpenAI, model, azureEndpoint, apiKey, orgId) = Settings.LoadFromFile();\n",
    "if (useAzureOpenAI) {\n",
    "    kernel.Config.AddAzureTextCompletionService(\"davinci\", model, azureEndpoint, apiKey);\n",
    "    kernel.Config.AddAzureChatCompletionService(\"chatgpt\", \"gpt-35-turbo\", azureEndpoint, apiKey);\n",
    "}\n",
    "else\n",
    "    kernel.Config.AddOpenAITextCompletionService(\"davinci\", model, apiKey, orgId);\n",
    "    kernel.Config.AddOpenAIChatCompletionService(\"chatgpt\", \"gpt-35-turbo\", apiKey, orgId);"
   ]
  },
  {
   "attachments": {},
   "cell_type": "markdown",
   "metadata": {},
   "source": [
    "Let's create a semantic function used to explain medical shorthand:"
   ]
  },
  {
   "cell_type": "code",
   "execution_count": 13,
   "metadata": {
    "dotnet_interactive": {
     "language": "csharp"
    },
    "polyglot_notebook": {
     "kernelName": "csharp"
    }
   },
   "outputs": [],
   "source": [
    "string explainMedicalShorthand = \"\"\"\n",
    "Explain the following medical shorthand and what it means.\n",
    "\n",
    "### Medical shorthand\n",
    "{{$input}}\n",
    "\"\"\";"
   ]
  },
  {
   "attachments": {},
   "cell_type": "markdown",
   "metadata": {},
   "source": [
    "Let's configure the prompt, e.g. allowing for some creativity and a sufficient number of tokens."
   ]
  },
  {
   "cell_type": "code",
   "execution_count": 14,
   "metadata": {
    "dotnet_interactive": {
     "language": "csharp"
    },
    "polyglot_notebook": {
     "kernelName": "csharp"
    }
   },
   "outputs": [],
   "source": [
    "var promptConfig = new PromptTemplateConfig\n",
    "{\n",
    "    Completion =\n",
    "    {\n",
    "        MaxTokens = 2000,\n",
    "        Temperature = 0.0,\n",
    "        TopP = 0.5,\n",
    "    }\n",
    "};"
   ]
  },
  {
   "attachments": {},
   "cell_type": "markdown",
   "metadata": {},
   "source": [
    "The following code prepares an instance of the template, passing in the TXT and configuration above, \n",
    "and a couple of other parameters (how to render the TXT and how the template can access other functions)."
   ]
  },
  {
   "cell_type": "code",
   "execution_count": 15,
   "metadata": {
    "dotnet_interactive": {
     "language": "csharp"
    },
    "polyglot_notebook": {
     "kernelName": "csharp"
    }
   },
   "outputs": [],
   "source": [
    "var explainMedicalShorthandTemplate = new PromptTemplate(\n",
    "    explainMedicalShorthand,       // Prompt template defined in natural language\n",
    "    promptConfig,                  // Prompt configuration\n",
    "    kernel                         // SK instance\n",
    ");"
   ]
  },
  {
   "attachments": {},
   "cell_type": "markdown",
   "metadata": {},
   "source": [
    "Let's transform the prompt template into a function that the kernel can execute:"
   ]
  },
  {
   "cell_type": "code",
   "execution_count": 16,
   "metadata": {
    "dotnet_interactive": {
     "language": "csharp"
    },
    "polyglot_notebook": {
     "kernelName": "csharp"
    }
   },
   "outputs": [],
   "source": [
    "var explainMedicalShorthandFunctionConfig = new SemanticFunctionConfig(promptConfig, explainMedicalShorthandTemplate);\n",
    "\n",
    "var explainMedicalShorthandFunction = kernel.RegisterSemanticFunction(\"ExplainMedicalShorthand\", \"ExplainMedicalShorthand\", explainMedicalShorthandFunctionConfig);"
   ]
  },
  {
   "attachments": {},
   "cell_type": "markdown",
   "metadata": {},
   "source": [
    "Set up some medical shorthand to explain. The medical shorthand is from a patient visit from a upper elbow fracture event."
   ]
  },
  {
   "cell_type": "code",
   "execution_count": 17,
   "metadata": {
    "dotnet_interactive": {
     "language": "csharp"
    },
    "polyglot_notebook": {
     "kernelName": "csharp"
    }
   },
   "outputs": [],
   "source": [
    "var medicalShorthand = \"\"\"\n",
    "S: Pt c/o pain in R elbow after fall. Hx of HTN, T2DM. O: R elbow swollen, tender to palpation. ROM limited. No obvious deformity. A: Suspected R upper elbow fx. P: X-ray ordered. RICE, analgesics, sling for immobilization. Ref to Fracture Clinic.\n",
    "\"\"\";"
   ]
  },
  {
   "attachments": {},
   "cell_type": "markdown",
   "metadata": {},
   "source": [
    "...and run the summary function:"
   ]
  },
  {
   "cell_type": "code",
   "execution_count": 18,
   "metadata": {
    "dotnet_interactive": {
     "language": "csharp"
    },
    "polyglot_notebook": {
     "kernelName": "csharp"
    }
   },
   "outputs": [
    {
     "name": "stdout",
     "output_type": "stream",
     "text": [
      "\n",
      "\n",
      "S: Patient complains of pain in right elbow after fall. History of hypertension and type 2 diabetes.\n",
      "\n",
      "O: Right elbow is swollen and tender to palpation. Range of motion is limited. No obvious deformity.\n",
      "\n",
      "A: Suspected right upper elbow fracture.\n",
      "\n",
      "P: X-ray ordered. Rest, Ice, Compression, Elevation, analgesics, and sling for immobilization. Referral to Fracture Clinic.\r\n"
     ]
    }
   ],
   "source": [
    "var explainedMedicalShorthand = await kernel.RunAsync(medicalShorthand, explainMedicalShorthandFunction);\n",
    "\n",
    "Console.WriteLine(explainedMedicalShorthand);"
   ]
  },
  {
   "attachments": {},
   "cell_type": "markdown",
   "metadata": {},
   "source": [
    "Create a semantic function used to explain medical shorthand and output it as a JSON string."
   ]
  },
  {
   "cell_type": "code",
   "execution_count": 19,
   "metadata": {},
   "outputs": [],
   "source": [
    "string explainMedicalShorthandToJson = \"\"\"\n",
    "You are a medical AI assistant for applications at a general medical practice. You help produce professional documentation and make recommendations on documentation gaps.\n",
    "\n",
    "###\n",
    "Prompt: Explain the meaning of the medical shorthand and output as JSON.\n",
    "### Medical Shorthand\n",
    "S: 70 y/o pt c/o CP. O: Pt appears uncomfortable, clutching chest. Vitals: BP 160/90, HR 110, RR 20, O2 sat 95% on RA. EKG shows ST elevations in leads II, III, and aVF. A: Suspected acute MI. P: Administer aspirin, nitroglycerin, and morphine. Transfer to ED for further management.\n",
    "Response:\n",
    "{\n",
    "    \"Subjective\": \"70 year old patient complains of chest pain.\",\n",
    "    \"Objective\": \"Patient appears uncomfortable, clutching chest. Vital signs: Blood pressure 160/90, heart rate 110, respiratory rate 20, oxygen saturation 95% on room air. Electrocardiogram shows ST elevations in leads II, III, and aVF.\",\n",
    "    \"Assessment\": \"Suspected acute myocardial infarction.\",\n",
    "    \"Plan\": [\n",
    "        \"Administer aspirin, nitroglycerin, and morphine.\"\n",
    "        \"Transfer to emergency department for further management.\"\n",
    "    ]\n",
    "}\n",
    "\n",
    "###\n",
    "Prompt: Explain the meaning of the medical shorthand and output as JSON.\n",
    "### Medical shorthand\n",
    "{{$input}}\n",
    "Response:\n",
    "\"\"\";"
   ]
  },
  {
   "attachments": {},
   "cell_type": "markdown",
   "metadata": {},
   "source": [
    "Create a new Semantic Function that will be used to explain the medical shorthand as JSON."
   ]
  },
  {
   "cell_type": "code",
   "execution_count": 20,
   "metadata": {},
   "outputs": [],
   "source": [
    "var explainMedicalShorthandToJsonTemplate = new PromptTemplate(\n",
    "    explainMedicalShorthandToJson,       // Prompt template defined in natural language\n",
    "    promptConfig,                        // Prompt configuration\n",
    "    kernel                               // SK instance\n",
    ");\n",
    "\n",
    "var explainMedicalShorthandAsJsonFunctionConfig = new SemanticFunctionConfig(promptConfig, explainMedicalShorthandToJsonTemplate);\n",
    "\n",
    "var explainMedicalShorthandAsJsonFunction = kernel.RegisterSemanticFunction(\"ExplainMedicalShorthandAsJson\", \"ExplainMedicalShorthandAsJson\", explainMedicalShorthandAsJsonFunctionConfig);"
   ]
  },
  {
   "attachments": {},
   "cell_type": "markdown",
   "metadata": {},
   "source": [
    "...and run the summary function:"
   ]
  },
  {
   "cell_type": "code",
   "execution_count": 21,
   "metadata": {},
   "outputs": [
    {
     "name": "stdout",
     "output_type": "stream",
     "text": [
      "\n",
      "{\n",
      "    \"Subjective\": \"Patient complains of pain in right elbow after fall. History of hypertension and type 2 diabetes.\",\n",
      "    \"Objective\": \"Right elbow is swollen and tender to palpation. Range of motion is limited. No obvious deformity.\",\n",
      "    \"Assessment\": \"Suspected right upper elbow fracture.\",\n",
      "    \"Plan\": [\n",
      "        \"Order X-ray.\",\n",
      "        \"Rest, ice, compression, and elevation. Analgesics and sling for immobilization.\",\n",
      "        \"Refer to fracture clinic.\"\n",
      "    ]\n",
      "}\r\n"
     ]
    }
   ],
   "source": [
    "var explainedMedicalShorthandAsJson = await kernel.RunAsync(medicalShorthand, explainMedicalShorthandAsJsonFunction);\n",
    "\n",
    "Console.WriteLine(explainedMedicalShorthandAsJson);"
   ]
  },
  {
   "cell_type": "code",
   "execution_count": 23,
   "metadata": {},
   "outputs": [
    {
     "name": "stdout",
     "output_type": "stream",
     "text": [
      "Subjective: Patient complains of pain in right elbow after fall. History of hypertension and type 2 diabetes.\n",
      "Objective: Right elbow is swollen and tender to palpation. Range of motion is limited. No obvious deformity.\n",
      "Assessment: Suspected right upper elbow fracture.\n",
      "Plan: Order X-ray.\n",
      "Plan: Rest, ice, compression, and elevation. Analgesics and sling for immobilization.\n",
      "Plan: Refer to fracture clinic.\n"
     ]
    }
   ],
   "source": [
    "// Convert String to JSON\n",
    "class soap {\n",
    "  public string Subjective { get; set; }\n",
    "  public string Objective { get; set; }\n",
    "  public string Assessment { get; set; }\n",
    "  public List<string> Plan { get; set; }\n",
    "}\n",
    "\n",
    "var expandedMedicalShorthandSoap = JsonSerializer.Deserialize<soap>(explainedMedicalShorthandAsJson.Result);\n",
    "Console.WriteLine($\"Subjective: {expandedMedicalShorthandSoap.Subjective}\");\n",
    "Console.WriteLine($\"Objective: {expandedMedicalShorthandSoap.Objective}\");\n",
    "Console.WriteLine($\"Assessment: {expandedMedicalShorthandSoap.Assessment}\");\n",
    "foreach (var plan in expandedMedicalShorthandSoap.Plan)\n",
    "{\n",
    "    Console.WriteLine($\"Plan: {plan}\");\n",
    "}\n"
   ]
  }
 ],
 "metadata": {
  "kernelspec": {
   "display_name": ".NET (C#)",
   "language": "C#",
   "name": ".net-csharp"
  },
  "language_info": {
   "name": "polyglot-notebook"
  },
  "polyglot_notebook": {
   "kernelInfo": {
    "defaultKernelName": "csharp",
    "items": [
     {
      "aliases": [],
      "name": "csharp"
     }
    ]
   }
  }
 },
 "nbformat": 4,
 "nbformat_minor": 2
}
